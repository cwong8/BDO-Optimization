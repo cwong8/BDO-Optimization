{
 "cells": [
  {
   "cell_type": "markdown",
   "metadata": {},
   "source": [
    "# Project on hold\n",
    "### Things to do:\n",
    "(a): Update ant_colony_modified.py to output node names in the paths instead of coordinates and other modifications.\n",
    "\n",
    "(b): Calculate all \"reasonable\" (may be all) paths to subnodes and compare CP costs. Reason being that this is not exactly a mTSP (multiple travelling salesmen problem) because there are limited connections between nodes (which leads to a sparse connection matrix) and I do not need a cycle containing all nodes. Also, this is an asymmetrical problem (going into the subnodes is where the profits are, not going from subnodes to main nodes).\n",
    "\n",
    "(c): Modify algorithm to take CP costs into account so there are constraints.\n",
    "\n",
    "(d): Worker constraints (stamina, work speed, skills, etc.)\n",
    "\n",
    "(e): Once I get the algorithm working then I can expand the project past its limitations by web-scraping one of the online BDO databases (bdodae)."
   ]
  },
  {
   "cell_type": "code",
   "execution_count": 1,
   "metadata": {},
   "outputs": [],
   "source": [
    "# Import 'os'\n",
    "import os\n",
    "\n",
    "# Get current working directory ('cwd')\n",
    "cwd = os.getcwd()\n",
    "\n",
    "# Import pandas, numpy, re (regular expressions)\n",
    "import pandas as pd\n",
    "import numpy as np\n",
    "import re"
   ]
  },
  {
   "cell_type": "code",
   "execution_count": 5,
   "metadata": {},
   "outputs": [],
   "source": [
    "# Import Black Desert Nodes and Resources\n",
    "# Contains connection nodes as well as resource nodes\n",
    "nodes = pd.read_excel(io = 'Black Desert Nodes and Resources.xlsx', sheet_name = 'List By region')\n",
    "\n",
    "# Import final_node_names (clean)\n",
    "# Contains the connection matrix between nodes (excluding islands)\n",
    "# Created by manually inputting ones to indicate connection\n",
    "final_node = pd.read_excel(io = 'final_node_names (clean).xlsx', sheet_name = 'Sheet1')\n",
    "\n",
    "# Match column and row names (duplicate columns became *****.1 on import)\n",
    "final_node['Name'] = final_node.columns[1:]\n",
    "\n",
    "# Import Public Node Doc - Balzor (clean)\n",
    "# Contains resource/subnodes\n",
    "# Clean version updated using data from BDOdae: average yields of traces\n",
    "# Clean Public Node Doc - Balzor : Northern Wheat Pl to Northern Wheat Plantation\n",
    "balzor = pd.read_excel(io = 'Public Node Doc - Balzor (clean).xlsx', sheet_name = \"Balzor's Node Chart\")"
   ]
  },
  {
   "cell_type": "code",
   "execution_count": 6,
   "metadata": {
    "scrolled": false
   },
   "outputs": [],
   "source": [
    "# BDO map http://www.somethinglovely.net/bdo/"
   ]
  },
  {
   "cell_type": "code",
   "execution_count": 7,
   "metadata": {},
   "outputs": [],
   "source": [
    "# Olivia == Olvia, Terrmian == Thermian, Mediah == Median, Port Epheria == Epheria, Catfishman Camp == Catfish Camp\n",
    "# Bradie Forest == Bradie Fortress, Abandonned Quarry == Abandoned Quarry, Trina beacon Mounds == Trina Beacon Towers\n",
    "# North/South Kaia Pier == North/South Kaia Ferry, Trina beacon Moudns == Trina Beacon Towers\n",
    "# Bradie Forest == Bradie Fortress\n",
    "# Norhern Media Plateau == Mediah Northern Highlands, CLan Chief's Mausoleum == The Mausoleum\n",
    "# Pre-Kamasylvia update, Pre-Mediah update, Pre-Drieghan\n",
    "# Added Abandoned Monastery, North Abandoned Quarry, Gehaku Plain, Serendia Western Gateway\n",
    "# Removed Closed Western Gateway (became Serendia Western Gateway)\n",
    "# Ignore fishing nodes (i.e. islands)\n",
    "# 255CP soft cap"
   ]
  },
  {
   "cell_type": "code",
   "execution_count": 8,
   "metadata": {},
   "outputs": [
    {
     "data": {
      "text/plain": [
       "True"
      ]
     },
     "execution_count": 8,
     "metadata": {},
     "output_type": "execute_result"
    }
   ],
   "source": [
    "# Import conn_matrix.csv (basically final_node_names (clean) as a CSV file without row/column names)\n",
    "# Connection matrix between all nodes (excluding islands for now)\n",
    "conn_mat = np.loadtxt(open(\"conn_matrix.csv\"), delimiter=\",\", skiprows=0)\n",
    "\n",
    "# Connection matrices are symmetric in our case (two-way paths)\n",
    "# https://stackoverflow.com/questions/42908334/checking-if-a-matrix-is-symmetric-in-numpy\n",
    "def check_symmetric(a, tol=1e-8):\n",
    "    return np.allclose(a, a.T, atol=tol)\n",
    "\n",
    "check_symmetric(conn_mat)"
   ]
  },
  {
   "cell_type": "code",
   "execution_count": 9,
   "metadata": {},
   "outputs": [],
   "source": [
    "# TODO\n",
    "# Data mine bdodae by Dae for all nodes\n",
    "\n",
    "# Function variables:\n",
    "# Worker type, yield/price of yield, worker type, (worker housing?), worker travel distance, contribution points\n",
    "#\n",
    "# Constraints:\n",
    "# Contribution points (CP)"
   ]
  },
  {
   "cell_type": "code",
   "execution_count": 10,
   "metadata": {
    "scrolled": false
   },
   "outputs": [
    {
     "name": "stderr",
     "output_type": "stream",
     "text": [
      "C:\\Users\\Christopher Wong\\Anaconda3\\lib\\site-packages\\ipykernel_launcher.py:40: UserWarning: This pattern has match groups. To actually get the groups, use str.extract.\n"
     ]
    }
   ],
   "source": [
    "# Getting CP (contribution points) values for each node\n",
    "cp = nodes[['Name', 'CP']]\n",
    "\n",
    "# Matching node names between two files\n",
    "a = set(nodes['Name'])\n",
    "nodes_names = pd.read_excel(io = \"final_node_names.xlsx\", sheet_name = \"Sheet1\")\n",
    "b = set(nodes_names['Name'])\n",
    "matches = a & b\n",
    "cp = cp[cp['Name'].isin(matches)]\n",
    "\n",
    "# Match main node name to its resource/subnode\n",
    "balzor_nodes = balzor.iloc[0:150,]\n",
    "a = set(balzor_nodes['Node'])\n",
    "matches = list(a & b)\n",
    "\n",
    "# Create subnodes to add to node matrix making sure to have unique duplicates (e.g. ***** and *****.1)\n",
    "subnodes = balzor_nodes['Node'] + \" - \" + balzor_nodes['Main Material']\n",
    "\n",
    "# https://stackoverflow.com/questions/2837409/how-to-append-count-numbers-to-duplicates-in-a-list-in-python\n",
    "def rename_duplicates( old ):\n",
    "    seen = {}\n",
    "    for x in old:\n",
    "        if x in seen:\n",
    "            seen[x] += 1\n",
    "            yield \"%s.%d\" % (x, seen[x])\n",
    "        else:\n",
    "            seen[x] = 0\n",
    "            yield x\n",
    "\n",
    "subnodes = list(rename_duplicates(subnodes))\n",
    "\n",
    "# Create a zero submatrix for the added subnodes\n",
    "z = pd.DataFrame(np.zeros((len(subnodes), len(final_node['Name']) + 1)))\n",
    "z.columns = list(final_node.columns)\n",
    "z['Name'] = subnodes\n",
    "\n",
    "\n",
    "# https://stackoverflow.com/questions/39948757/how-to-delete-rows-in-python-pandas-dataframe-using-regular-expressions\n",
    "patternDel = '(Island|island)'\n",
    "filter = cp['Name'].str.contains(patternDel)\n",
    "cp = cp[~filter]\n",
    "cp = cp.reset_index(drop = True)\n",
    "\n",
    "\n",
    "\n",
    "# Contribution points for subnodes\n",
    "cp2 = pd.DataFrame({'Name' : subnodes,\n",
    "                    'CP' : balzor_nodes['Subnode Cp']})\n",
    "# Add to main node CP matrix\n",
    "cp = cp.append(cp2, ignore_index = True)\n",
    "\n",
    "# Use the connection matrix to make a cost-matrix with CP\n",
    "cp_mat = np.diag(cp['CP'])"
   ]
  },
  {
   "cell_type": "code",
   "execution_count": 11,
   "metadata": {},
   "outputs": [],
   "source": [
    "# Create a dataframe containing main nodes and subnodes (rows) and main nodes (columns)\n",
    "y = final_node.append(z, ignore_index = True)\n",
    "\n",
    "# Loop that marks connections between subnodes and their main node\n",
    "# If node string matches, then put a one in [i,j] and [j,i]\n",
    "# Subnodes start at index 172\n",
    "for row in list(y.iloc[172:, :]['Name']):\n",
    "    # Split string by hyphen and take everything before the space and hyphen\n",
    "    row2 = re.split('\\s-', row)[0]\n",
    "    #print(row)\n",
    "    for col in y.columns:\n",
    "        # Removes the '.1' after duplicate names\n",
    "        col2 = re.split('\\.', col)[0]\n",
    "        #print(col)\n",
    "        if row2 == col2:\n",
    "            y.loc[y['Name'] == row, col] = 1\n",
    "\n"
   ]
  },
  {
   "cell_type": "code",
   "execution_count": 12,
   "metadata": {},
   "outputs": [],
   "source": [
    "# Creating a transposed copy of our subnode to main node connection matrix\n",
    "profit = balzor_nodes['Silver Per Day']\n",
    "\n",
    "# Setting a higher weight going to subnodes from their main node\n",
    "# Arbitrary weight of 0.25\n",
    "z2 = y.iloc[172:, :].set_index('Name').T @ (np.diag(profit * 0.25))\n",
    "z2.index.name = 'Name'\n",
    "z2.columns = subnodes\n",
    "\n",
    "\n",
    "# Creating a zero matrix between subnodes (because subnodes are not connected to each other)\n",
    "df2 = pd.DataFrame(np.zeros((len(subnodes), len(subnodes))), index = subnodes, columns = subnodes)\n",
    "\n",
    "# Appending both matrices\n",
    "z2 = z2.append(df2)\n",
    "z2 = z2.rename_axis('Name').reset_index()\n",
    "\n",
    "# Merge everything into a complete matrix including both connections of main nodes and subnodes\n",
    "final = pd.merge(y, z2, on = 'Name')\n",
    "final = final.set_index('Name')"
   ]
  },
  {
   "cell_type": "code",
   "execution_count": 13,
   "metadata": {},
   "outputs": [],
   "source": [
    "# https://www.gurobi.com/documentation/8.0/quickstart_windows/py_example_mip1_py.html\n",
    "\n",
    "# Multiplying by a diagonal matrix multiplies each row of our connection matrix by the CP needed to connect\n",
    "cp_conn_mat = np.array(cp_mat @ final)\n",
    "\n",
    "# We take the transpose to keep this notation:\n",
    "# Row: Starting point\n",
    "# Column: End point\n",
    "distances = np.array(final)\n",
    "\n",
    "# Setting distance = 1/profit for subnodes with resource yield\n",
    "distances[:, 172:] = np.multiply(distances[:, 172:], 1/profit.values)\n",
    "# Should it be symmetrical? Probably not, the subnodes give value to the main node.\n",
    "#distances[172:, :] = distances[:, 172:].T\n",
    "\n",
    "# Change this when we change distances to profits in ant_colony_modified.py\n",
    "distances[distances == 0] = np.inf\n",
    "distances = np.array(distances)\n"
   ]
  },
  {
   "cell_type": "code",
   "execution_count": 64,
   "metadata": {},
   "outputs": [
    {
     "name": "stdout",
     "output_type": "stream",
     "text": [
      "Abandonned Land\n",
      "Isolated Sentry Post\n",
      "Quint Hill\n",
      "Quint Hill - Lead Ore\n",
      "Quint Hill.1\n",
      "Quint Hill - Birch\n"
     ]
    },
    {
     "data": {
      "text/html": [
       "<div>\n",
       "<style scoped>\n",
       "    .dataframe tbody tr th:only-of-type {\n",
       "        vertical-align: middle;\n",
       "    }\n",
       "\n",
       "    .dataframe tbody tr th {\n",
       "        vertical-align: top;\n",
       "    }\n",
       "\n",
       "    .dataframe thead th {\n",
       "        text-align: right;\n",
       "    }\n",
       "</style>\n",
       "<table border=\"1\" class=\"dataframe\">\n",
       "  <thead>\n",
       "    <tr style=\"text-align: right;\">\n",
       "      <th></th>\n",
       "      <th>Castle Ruins - Maple Timber</th>\n",
       "      <th>Khuruto Cave - Tin Ore</th>\n",
       "      <th>Old Dandelion - Birch Timber</th>\n",
       "      <th>Karanda Ridge - Silk Honey Grass</th>\n",
       "    </tr>\n",
       "    <tr>\n",
       "      <th>Name</th>\n",
       "      <th></th>\n",
       "      <th></th>\n",
       "      <th></th>\n",
       "      <th></th>\n",
       "    </tr>\n",
       "  </thead>\n",
       "  <tbody>\n",
       "    <tr>\n",
       "      <th>Balenos Forest.1</th>\n",
       "      <td>0.0</td>\n",
       "      <td>0.0</td>\n",
       "      <td>0.0</td>\n",
       "      <td>0.0</td>\n",
       "    </tr>\n",
       "  </tbody>\n",
       "</table>\n",
       "</div>"
      ],
      "text/plain": [
       "                  Castle Ruins - Maple Timber  Khuruto Cave - Tin Ore  \\\n",
       "Name                                                                    \n",
       "Balenos Forest.1                          0.0                     0.0   \n",
       "\n",
       "                  Old Dandelion - Birch Timber  \\\n",
       "Name                                             \n",
       "Balenos Forest.1                           0.0   \n",
       "\n",
       "                  Karanda Ridge - Silk Honey Grass  \n",
       "Name                                                \n",
       "Balenos Forest.1                               0.0  "
      ]
     },
     "execution_count": 64,
     "metadata": {},
     "output_type": "execute_result"
    }
   ],
   "source": [
    "# final.columns.get_loc('Quint Hill')\n",
    "final.iloc[26:27, 218:222]\n",
    "distances[57:58, :]\n",
    "\n",
    "def node_name(a):\n",
    "    for x in a: print(final.columns[x])\n",
    "node_name([73,100,47,229,62,228])\n"
   ]
  },
  {
   "cell_type": "code",
   "execution_count": 59,
   "metadata": {
    "scrolled": true
   },
   "outputs": [
    {
     "name": "stdout",
     "output_type": "stream",
     "text": [
      "{169, 170, 44, 46, 50, 73, 74, 75, 76, 77, 79, 80, 86, 87, 89, 92, 220, 95, 97, 100, 105, 106, 110, 111, 112, 115, 116, 246, 118, 121, 122}\n",
      "shortest_path: ([(80, 92), (92, 44), (44, 46), (46, 220), (220, 80), 'End of path', (80, 87), (87, 75), (75, 53), (53, 45), (45, 222), (222, 68), (68, 223), (223, 80), 'End of path', (80, 73), (73, 86), (86, 100), (100, 47), (47, 229), (229, 62), (62, 228), (228, 80), 'End of path', (80, 95), (95, 105), (105, 77), (77, 121), (121, 122), (122, 115), (115, 116), (116, 89), (89, 170), (170, 98), (98, 171), (171, 159), (159, 161), (161, 157), (157, 149), (149, 139), (139, 199), (199, 144), (144, 200), (200, 80), 'End of path', (80, 110), (110, 76), (76, 112), (112, 79), (79, 55), (55, 99), (99, 123), (123, 64), (64, 241), (241, 59), (59, 242), (242, 80), 'End of path', (80, 97)], 0.05603448275862069)\n"
     ]
    }
   ],
   "source": [
    "import importlib\n",
    "import ant_colony_modified #import the module here, so that it can be reloaded.\n",
    "importlib.reload(ant_colony_modified)\n",
    "from ant_colony_modified import AntColony # or whatever name you want.\n",
    "\n",
    "# adjust distances starting from city (currently all set to 1)\n",
    "# Weight according to subnode values\n",
    "# \n",
    "# replace dead ends with back to town\n",
    "# modify algorithm to keep searching after back to town\n",
    "\n",
    "# Choose Velia as a starting location : start_node = 39\n",
    "# Choose Calpheon as a starting location : start_node = 80\n",
    "# Choose Heidel as a starting location : start_node = 154\n",
    "# Choose Olivia as a starting location : start_node = 166\n",
    "ant_colony = AntColony(distances, 80, 100, 10, 5, 0.9, alpha=1, beta=3)\n",
    "shortest_path = ant_colony.run()\n",
    "\n",
    "print (\"shortest_path: {}\".format(shortest_path))\n"
   ]
  },
  {
   "cell_type": "code",
   "execution_count": 18,
   "metadata": {
    "scrolled": true
   },
   "outputs": [
    {
     "name": "stdout",
     "output_type": "stream",
     "text": [
      "([(4, 3), (3, 2), (2, 1), (1, 4), 'Dead end'], 7.0)\n",
      "([(4, 3), (3, 2), (2, 1), (1, 4), 'Dead end'], 7.0)\n",
      "([(4, 3), (3, 2), (2, 1), (1, 4), 'Dead end'], 7.0)\n",
      "([(4, 3), (3, 2), (2, 1), (1, 4), 'Dead end'], 7.0)\n",
      "([(4, 3), (3, 2), (2, 1), (1, 4), 'Dead end'], 7.0)\n",
      "([(4, 3), (3, 2), (2, 1), (1, 4), 'Dead end'], 7.0)\n",
      "([(4, 3), (3, 2), (2, 1), (1, 4), 'Dead end'], 7.0)\n",
      "([(4, 3), (3, 2), (2, 1), (1, 4), 'Dead end'], 7.0)\n",
      "([(4, 3), (3, 2), (2, 1), (1, 4), 'Dead end'], 7.0)\n",
      "([(4, 3), (3, 2), (2, 1), (1, 4), 'Dead end'], 7.0)\n",
      "([(4, 3), (3, 2), (2, 1), (1, 4), 'Dead end'], 7.0)\n",
      "([(4, 3), (3, 2), (2, 1), (1, 4), 'Dead end'], 7.0)\n",
      "([(4, 3), (3, 2), (2, 1), (1, 4), 'Dead end'], 7.0)\n",
      "([(4, 3), (3, 2), (2, 1), (1, 4), 'Dead end'], 7.0)\n",
      "([(4, 3), (3, 2), (2, 1), (1, 4), 'Dead end'], 7.0)\n",
      "([(4, 3), (3, 2), (2, 1), (1, 4), 'Dead end'], 7.0)\n",
      "([(4, 3), (3, 2), (2, 1), (1, 4), 'Dead end'], 7.0)\n",
      "([(4, 3), (3, 2), (2, 1), (1, 4), 'Dead end'], 7.0)\n",
      "([(4, 3), (3, 2), (2, 1), (1, 4), 'Dead end'], 7.0)\n",
      "([(4, 3), (3, 2), (2, 1), (1, 4), 'Dead end'], 7.0)\n",
      "([(4, 3), (3, 2), (2, 1), (1, 4), 'Dead end'], 7.0)\n",
      "([(4, 3), (3, 2), (2, 1), (1, 4), 'Dead end'], 7.0)\n",
      "([(4, 3), (3, 2), (2, 1), (1, 4), 'Dead end'], 7.0)\n",
      "([(4, 3), (3, 2), (2, 1), (1, 4), 'Dead end'], 7.0)\n",
      "([(4, 3), (3, 2), (2, 1), (1, 4), 'Dead end'], 7.0)\n",
      "([(4, 3), (3, 2), (2, 1), (1, 4), 'Dead end'], 7.0)\n",
      "([(4, 3), (3, 2), (2, 1), (1, 4), 'Dead end'], 7.0)\n",
      "([(4, 3), (3, 2), (2, 1), (1, 4), 'Dead end'], 7.0)\n",
      "([(4, 3), (3, 2), (2, 1), (1, 4), 'Dead end'], 7.0)\n",
      "([(4, 3), (3, 2), (2, 1), (1, 4), 'Dead end'], 7.0)\n",
      "([(4, 3), (3, 2), (2, 1), (1, 4), 'Dead end'], 7.0)\n",
      "([(4, 3), (3, 2), (2, 1), (1, 4), 'Dead end'], 7.0)\n",
      "([(4, 3), (3, 2), (2, 1), (1, 4), 'Dead end'], 7.0)\n",
      "([(4, 3), (3, 2), (2, 1), (1, 4), 'Dead end'], 7.0)\n",
      "([(4, 3), (3, 2), (2, 1), (1, 4), 'Dead end'], 7.0)\n",
      "([(4, 3), (3, 2), (2, 1), (1, 4), 'Dead end'], 7.0)\n",
      "([(4, 3), (3, 2), (2, 1), (1, 4), 'Dead end'], 7.0)\n",
      "([(4, 3), (3, 2), (2, 1), (1, 4), 'Dead end'], 7.0)\n",
      "([(4, 3), (3, 2), (2, 1), (1, 4), 'Dead end'], 7.0)\n",
      "([(4, 3), (3, 2), (2, 1), (1, 4), 'Dead end'], 7.0)\n",
      "([(4, 3), (3, 2), (2, 1), (1, 4), 'Dead end'], 7.0)\n",
      "([(4, 3), (3, 2), (2, 1), (1, 4), 'Dead end'], 7.0)\n",
      "([(4, 3), (3, 2), (2, 1), (1, 4), 'Dead end'], 7.0)\n",
      "([(4, 3), (3, 2), (2, 1), (1, 4), 'Dead end'], 7.0)\n",
      "([(4, 3), (3, 2), (2, 1), (1, 4), 'Dead end'], 7.0)\n",
      "([(4, 3), (3, 2), (2, 1), (1, 4), 'Dead end'], 7.0)\n",
      "([(4, 3), (3, 2), (2, 1), (1, 4), 'Dead end'], 7.0)\n",
      "([(4, 3), (3, 2), (2, 1), (1, 4), 'Dead end'], 7.0)\n",
      "([(4, 3), (3, 2), (2, 1), (1, 4), 'Dead end'], 7.0)\n",
      "([(4, 3), (3, 2), (2, 1), (1, 4), 'Dead end'], 7.0)\n",
      "shortest_path: ([(4, 3), (3, 2), (2, 1), (1, 4), 'Dead end'], 7.0)\n"
     ]
    }
   ],
   "source": [
    "# https://github.com/Akavall/AntColonyOptimization\n",
    "# Added parenthesis around print statement\n",
    "# Changed xrange to range (xrange was used in Python 2, changed to range in Python 3)\n",
    "\n",
    "# Added start_node to arguments\n",
    "\n",
    "import numpy as np\n",
    "\n",
    "import importlib\n",
    "import ant_colony_modified #import the module here, so that it can be reloaded.\n",
    "importlib.reload(ant_colony_modified)\n",
    "from ant_colony_modified import AntColony # or whatever name you want.\n",
    "\n",
    "\n",
    "distances = np.array([[np.inf, np.inf, np.inf, 5, np.inf],\n",
    "                      [np.inf, np.inf, 4, 8, np.inf],\n",
    "                      [np.inf, 4, np.inf, 1, np.inf],\n",
    "                      [5, 8, 1, np.inf, 2],\n",
    "                      [np.inf, np.inf, np.inf, 2, np.inf]])\n",
    "\n",
    "\n",
    "#distances = np.array([[np.inf, 2, 2, 5, 7],\n",
    "#                      [2, np.inf, 4, 8, 2],\n",
    "#                      [2, 4, np.inf, 1, 3],\n",
    "#                      [5, 8, 1, np.inf, 2],\n",
    "#                      [7, 2, 3, 2, np.inf]])\n",
    "\n",
    "ant_colony = AntColony(distances, 4, 10, 10, 50, 0.95, alpha=1, beta=1)\n",
    "shortest_path = ant_colony.run()\n",
    "print (\"shortest_path: {}\".format(shortest_path))\n",
    "#"
   ]
  }
 ],
 "metadata": {
  "kernelspec": {
   "display_name": "Python 3",
   "language": "python",
   "name": "python3"
  },
  "language_info": {
   "codemirror_mode": {
    "name": "ipython",
    "version": 3
   },
   "file_extension": ".py",
   "mimetype": "text/x-python",
   "name": "python",
   "nbconvert_exporter": "python",
   "pygments_lexer": "ipython3",
   "version": "3.6.5"
  }
 },
 "nbformat": 4,
 "nbformat_minor": 2
}
